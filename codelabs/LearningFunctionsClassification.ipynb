{
 "cells": [
  {
   "cell_type": "code",
   "execution_count": 1,
   "metadata": {
    "colab": {},
    "colab_type": "code",
    "id": "yOuZPhd8gBER"
   },
   "outputs": [],
   "source": [
    "def append_plurals(keywords):\n",
    "    results = []\n",
    "    for keyword in keywords:\n",
    "        if keyword[-1] == \"s\":\n",
    "            results.append(keyword + \"es\")\n",
    "        else:\n",
    "            results.append(keyword + \"s\")\n",
    "    return set(results)\n",
    "\n",
    "def has_bike_keywords(x):\n",
    "    return contains_keywords(x, {\"bike\", \"bicycle\", \"lane\", \"bikelane\", \"cyclist\", \"@FordGoBike\", \"@sfbike\"})\n",
    "\n",
    "def has_parking_keywords(x):\n",
    "    return contains_keywords(x, {\"park\", \"parking\", \"sidewalk\"})\n",
    "\n",
    "def has_safety_keywords(x):\n",
    "    return contains_keywords(x, {\"death\", \"deadly\", \"danger\", \"safety\", \"safe\", \"risk\", \"fatality\", \"fatalie\", \"dangerous\"})\n",
    "    \n",
    "def has_car_keywords(x):\n",
    "    return contains_keywords(x, {\"motorist\", \"car\", \"vehicle\", \"van\", \"truck\"})\n",
    "\n",
    "def has_block_keywords(x):\n",
    "    return contains_keywords(x, {\"block\", \"blocking\", \"blocked\"})\n",
    "    \n",
    "def contains_keywords(x, keywords):\n",
    "    keywords = append_plurals(keywords)\n",
    "    for token in x.strip().split():\n",
    "        if token in keywords:\n",
    "            return True\n",
    "    return False\n"
   ]
  },
  {
   "cell_type": "code",
   "execution_count": 2,
   "metadata": {
    "colab": {},
    "colab_type": "code",
    "id": "T6n52knQib28"
   },
   "outputs": [
    {
     "ename": "NameError",
     "evalue": "name 'train_texts' is not defined",
     "output_type": "error",
     "traceback": [
      "\u001b[1;31m---------------------------------------------------------------------------\u001b[0m",
      "\u001b[1;31mNameError\u001b[0m                                 Traceback (most recent call last)",
      "\u001b[1;32m<ipython-input-2-d519dd711f0a>\u001b[0m in \u001b[0;36m<module>\u001b[1;34m\u001b[0m\n\u001b[0;32m     14\u001b[0m     \u001b[1;32mreturn\u001b[0m \u001b[0mX\u001b[0m\u001b[1;33m\u001b[0m\u001b[0m\n\u001b[0;32m     15\u001b[0m \u001b[1;33m\u001b[0m\u001b[0m\n\u001b[1;32m---> 16\u001b[1;33m \u001b[0mX\u001b[0m \u001b[1;33m=\u001b[0m \u001b[0mtransform\u001b[0m\u001b[1;33m(\u001b[0m\u001b[0mtrain_texts\u001b[0m\u001b[1;33m)\u001b[0m\u001b[1;33m\u001b[0m\u001b[0m\n\u001b[0m\u001b[0;32m     17\u001b[0m \u001b[1;33m\u001b[0m\u001b[0m\n\u001b[0;32m     18\u001b[0m \u001b[0mclf\u001b[0m\u001b[1;33m.\u001b[0m\u001b[0mfit\u001b[0m\u001b[1;33m(\u001b[0m\u001b[0mX\u001b[0m\u001b[1;33m,\u001b[0m \u001b[0mtrain_labels\u001b[0m\u001b[1;33m)\u001b[0m\u001b[1;33m\u001b[0m\u001b[0m\n",
      "\u001b[1;31mNameError\u001b[0m: name 'train_texts' is not defined"
     ]
    }
   ],
   "source": [
    "from sklearn.ensemble import RandomForestClassifier\n",
    "clf = RandomForestClassifier(n_estimators=100, max_depth=2,random_state=0)\n",
    "\n",
    "def transform(input_texts):\n",
    "    X = []\n",
    "    for text in input_texts:\n",
    "        X.append([\n",
    "            has_bike_keywords(text),\n",
    "            has_parking_keywords(text),\n",
    "            has_safety_keywords(text),\n",
    "            has_car_keywords(text),\n",
    "            has_block_keywords(text),\n",
    "        ])\n",
    "    return X\n",
    "\n",
    "X = transform(train_texts)\n",
    "\n",
    "clf.fit(X, train_labels)"
   ]
  },
  {
   "cell_type": "code",
   "execution_count": null,
   "metadata": {},
   "outputs": [],
   "source": []
  }
 ],
 "metadata": {
  "colab": {
   "name": "LearningFunctionsnClassification.ipynb",
   "provenance": [],
   "version": "0.3.2"
  },
  "kernelspec": {
   "display_name": "Python 3",
   "language": "python",
   "name": "python3"
  },
  "language_info": {
   "codemirror_mode": {
    "name": "ipython",
    "version": 3
   },
   "file_extension": ".py",
   "mimetype": "text/x-python",
   "name": "python",
   "nbconvert_exporter": "python",
   "pygments_lexer": "ipython3",
   "version": "3.6.0"
  }
 },
 "nbformat": 4,
 "nbformat_minor": 1
}